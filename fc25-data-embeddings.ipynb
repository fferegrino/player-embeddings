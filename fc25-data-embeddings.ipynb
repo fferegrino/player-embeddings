{
 "cells": [
  {
   "cell_type": "code",
   "execution_count": null,
   "metadata": {},
   "outputs": [],
   "source": [
    "import pandas as pd\n",
    "import numpy as np\n",
    "from sklearn.preprocessing import MinMaxScaler\n",
    "\n",
    "pd.set_option('display.max_columns',None)\n",
    "pd.option_context('mode.use_inf_as_na', True)"
   ]
  },
  {
   "cell_type": "code",
   "execution_count": 3,
   "metadata": {},
   "outputs": [],
   "source": [
    "df_male = pd.read_csv('data/male_players.csv')\n",
    "df_male.replace([np.inf, -np.inf], np.nan, inplace=True)\n",
    "df_male.drop('Unnamed: 0.1', axis=1, inplace = True)\n",
    "df_male.drop('Unnamed: 0', axis=1, inplace = True)\n",
    "df_male['Gender'] = 'Male'"
   ]
  },
  {
   "cell_type": "code",
   "execution_count": 4,
   "metadata": {},
   "outputs": [],
   "source": [
    "df_female = pd.read_csv('data/female_players.csv')\n",
    "df_female.replace([np.inf, -np.inf], np.nan, inplace=True)\n",
    "df_female.drop('Unnamed: 0', axis=1, inplace = True)\n",
    "df_female.drop('Unnamed: 0.1', axis=1, inplace = True)\n",
    "df_female['Gender'] = 'Female'"
   ]
  },
  {
   "cell_type": "code",
   "execution_count": 5,
   "metadata": {},
   "outputs": [],
   "source": [
    "df_players = pd.concat([df_male, df_female])"
   ]
  },
  {
   "cell_type": "code",
   "execution_count": 6,
   "metadata": {},
   "outputs": [],
   "source": [
    "gk_columns = [\n",
    "    column for column in df_players.columns if 'GK' in column\n",
    "]\n",
    "\n",
    "df_players[gk_columns] = df_players[gk_columns].fillna(0.0)\n",
    "\n",
    "number_columns = df_players.select_dtypes(include=['int64']).columns.to_list()\n",
    "number_columns.remove('Rank')\n",
    "number_columns.remove('Age')\n",
    "\n",
    "embedding_columns = number_columns + gk_columns"
   ]
  },
  {
   "cell_type": "code",
   "execution_count": null,
   "metadata": {},
   "outputs": [],
   "source": [
    "scaler = MinMaxScaler()\n",
    "data = scaler.fit_transform(df_players[embedding_columns])\n",
    "\n",
    "data.shape"
   ]
  },
  {
   "cell_type": "code",
   "execution_count": 8,
   "metadata": {},
   "outputs": [],
   "source": [
    "# Find index of Manuel Neuer\n",
    "manuel_neuer_index = df_players[df_players['Name'] == 'Manuel Neuer'].index[0]\n",
    "jude_bellingham_index = df_players[df_players['Name'] == 'Jude Bellingham'].index[0]\n",
    "lamine_yamal_index = df_players[df_players['Name'] == 'Lamine Yamal'].index[0]"
   ]
  },
  {
   "cell_type": "code",
   "execution_count": 9,
   "metadata": {},
   "outputs": [],
   "source": [
    "np.savetxt('embeddings/fc25.embeddings.tsv', data, delimiter='\\t')\n",
    "df_players[[\"Name\", \"Position\", \"Preferred foot\", \"Nation\", \"League\", \"Team\", \"Gender\"]].to_csv(\"embeddings/fc25.metadata.tsv\", sep=\"\\t\", index=False)"
   ]
  },
  {
   "cell_type": "code",
   "execution_count": null,
   "metadata": {},
   "outputs": [],
   "source": []
  }
 ],
 "metadata": {
  "kernelspec": {
   "display_name": ".venv",
   "language": "python",
   "name": "python3"
  },
  "language_info": {
   "codemirror_mode": {
    "name": "ipython",
    "version": 3
   },
   "file_extension": ".py",
   "mimetype": "text/x-python",
   "name": "python",
   "nbconvert_exporter": "python",
   "pygments_lexer": "ipython3",
   "version": "3.10.12"
  }
 },
 "nbformat": 4,
 "nbformat_minor": 2
}
